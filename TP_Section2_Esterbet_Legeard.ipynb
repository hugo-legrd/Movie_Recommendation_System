{
 "cells": [
  {
   "attachments": {},
   "cell_type": "markdown",
   "metadata": {
    "pycharm": {
     "name": "#%% md\n"
    }
   },
   "source": [
    "# <center> Projet - Partie 2 - BDA</center>\n",
    "<center>\n",
    "Esterbet Julien - Legeard Hugo <br>\n",
    "2022-2023 <br>\n",
    "M1 EIT FinTech - ISTIC - Université de Rennes 1<br> <br>\n",
    "</center>"
   ]
  },
  {
   "cell_type": "code",
   "execution_count": 1,
   "metadata": {},
   "outputs": [],
   "source": [
    "import pandas as pd\n",
    "import numpy as np\n",
    "from scipy.spatial import distance\n",
    "#from functions import *"
   ]
  },
  {
   "attachments": {},
   "cell_type": "markdown",
   "metadata": {},
   "source": [
    "<center> <b> Feel free to change all the paths to read files correctly"
   ]
  },
  {
   "cell_type": "code",
   "execution_count": 2,
   "metadata": {},
   "outputs": [
    {
     "data": {
      "text/plain": [
       "\"Led by Woody, Andy's toys live happily in his room until Andy's birthday brings Buzz Lightyear onto the scene. Afraid of losing his place in Andy's heart, Woody plots against Buzz. But when circumstances separate Buzz and Woody from their owner, the duo eventually learns to put aside their differences.\""
      ]
     },
     "execution_count": 2,
     "metadata": {},
     "output_type": "execute_result"
    }
   ],
   "source": [
    "# metadata = pd.read_csv('/Users/julienesbt/Documents/Etudes/M1/BDA/Project/utils/metadata.csv', low_memory=False)\n",
    "metadata = pd.read_csv('metadata.csv', low_memory=False)\n",
    "metadata.iloc[0]\n",
    "metadata.overview[0]\n",
    "# metadata is a dataframe that contains information about 5000 movies including an overview (synopsis) of each movie."
   ]
  },
  {
   "attachments": {},
   "cell_type": "markdown",
   "metadata": {
    "pycharm": {
     "name": "#%% md\n"
    }
   },
   "source": [
    "### The idea of this section is to compare movies by looking only at their overviews\n",
    "It is a langage processing problem : how to compare two written sentences ?\n",
    "I will explain you how to proceed : <br>\n",
    "We need to transform a sentence (composed of words) into a numerical vector.\n",
    "- For this, we first need a list of all possible words (i will give you one right after). For instance let's imagine that the only possible words are ['cat', 'drinks', 'dog', 'mouse', 'plays', 'milk']. And we want to work with the sentence 'A cat drinks some milk'. <br>\n",
    "The following operations need to be done : \n",
    "    - Transform the sentence into a list of words : Here : ['a', 'cat', 'drinks', 'some', 'milk']\n",
    "    - Remove from this list words that are called stopwords (common, not very informative). I will give you a list of stopwords after. The words 'a', 'some' are stopwords. So the list of words of the sentence now is : ['cat', 'drinks', 'milk']\n",
    "    - the sentence is then transformed into a numerical vector that represents the frequency of occurence of each possible words inside the sentence.\n",
    "Here we have\n",
    "- 1 occurence of 'cat'\n",
    "- 1 occurence of 'drinks'\n",
    "- 0 occurence of 'dog'\n",
    "- 0 occurence of 'mouse'\n",
    "- 0 occurence of 'plays'\n",
    "- 1 occurence of 'milk'\n",
    "<br>\n",
    "\n",
    "So the numerical vector that represents this sentence is : [1 1 0 0 0 1], that needs to be normalized so that the sum is 1 (it represents the probability of words in the sentence). <br> \n",
    "So [0.333 0.333 0 0 0 0.333] is the final representation of the sentence 'A cat drinks some milk'.<br>\n",
    "Similarly, the sentence 'A dog plays with a cat and a mouse' is represented as: [0.25 0 0.25 0.25 0.25 0]. <br>\n",
    "To compare 2 sentences represented by such vectors, a distance is well adapted : <br>\n",
    "- The cosine distance, you can basically use it easily : <br>\n",
    "distance.cosine([0.333,0.333,0,0,0,0.333], [0.25,0,0.25,0.25,0.25,0]) <br>\n",
    "Here it will give you 0.7113. <br>\n",
    "\n",
    "##### if the distance is 0, it means that the 2 vectors are the same. the higher the distance the more different are the vectors (and hence the sentences)\n",
    "\n",
    "You will apply this technique to compare the synopsis of your movies. For that, you will need to:\n",
    " - transform every synopsis into a list of words (i will give you this function)\n",
    " - remove stop words from the list of words of each movie \n",
    " - compute the occurence frequency vector using a list of all possible words (that I'll give you)\n",
    "And then you can compare 2 movies by the cosine distance between their numerical representation"
   ]
  },
  {
   "cell_type": "code",
   "execution_count": 3,
   "metadata": {},
   "outputs": [],
   "source": [
    "# Here you will load the list of all words in our dataset (all the words of all the movies synopsis)\n",
    "# unique_words = pd.read_csv('/Users/julienesbt/Documents/Etudes/M1/BDA/Project/utils/unique_words.csv', index_col=0)\n",
    "unique_words = pd.read_csv('unique_words.csv', index_col=0)\n",
    "unique_words = unique_words.iloc[:,0].to_list()\n",
    "# The list unique_words contains all the words that appear in the overviews of the movies in metadata (only one occurence of each word)"
   ]
  },
  {
   "attachments": {},
   "cell_type": "markdown",
   "metadata": {},
   "source": [
    "# Question : \n",
    "How many different words ? Have a look at some of these words"
   ]
  },
  {
   "cell_type": "code",
   "execution_count": 4,
   "metadata": {},
   "outputs": [
    {
     "data": {
      "text/plain": [
       "24240"
      ]
     },
     "execution_count": 4,
     "metadata": {},
     "output_type": "execute_result"
    }
   ],
   "source": [
    "len(unique_words)"
   ]
  },
  {
   "cell_type": "code",
   "execution_count": 5,
   "metadata": {},
   "outputs": [
    {
     "data": {
      "text/plain": [
       "63"
      ]
     },
     "execution_count": 5,
     "metadata": {},
     "output_type": "execute_result"
    }
   ],
   "source": [
    "# Here you will load the list of stop words\n",
    "# stop_words =pd.read_csv('/Users/julienesbt/Documents/Etudes/M1/BDA/Project/utils/stopwords.csv', index_col=0)\n",
    "stop_words =pd.read_csv('stopwords.csv', index_col=0)\n",
    "stop_words = stop_words.iloc[:,0]\n",
    "stop_words.dropna(inplace=True)\n",
    "stop_words = stop_words.to_list()\n",
    "# The variable stop_words containsis a list of all the english words that are considered as stopwords, i.e. words that are not interesting to compare sentences.  \n",
    "# Have a look at some words of this list.\n",
    "\n",
    "# Question : Can you find the word 'and' inside the list of stopwords ? \n",
    "stop_words.index('and')"
   ]
  },
  {
   "attachments": {},
   "cell_type": "markdown",
   "metadata": {
    "pycharm": {
     "name": "#%% md\n"
    }
   },
   "source": [
    "The function below create a list of words from the sypnosis of the i^th movie of metadata : "
   ]
  },
  {
   "cell_type": "code",
   "execution_count": 6,
   "metadata": {},
   "outputs": [
    {
     "name": "stdout",
     "output_type": "stream",
     "text": [
      "['Led', 'by', 'Woody', 'Andy', 'toys', 'live', 'happily', 'in', 'his', 'room', 'until', 'Andy', 'birthday', 'brings', 'Buzz', 'Lightyear', 'onto', 'the', 'scene', 'Afraid', 'of', 'losing', 'his', 'place', 'in', 'Andy', 'heart', 'Woody', 'plots', 'against', 'Buzz', 'But', 'when', 'circumstances', 'separate', 'Buzz', 'and', 'Woody', 'from', 'their', 'owner', 'the', 'duo', 'eventually', 'learns', 'to', 'put', 'aside', 'their', 'differences']\n"
     ]
    }
   ],
   "source": [
    "def create_list_words(i, metadata):\n",
    "    \"\"\"Create a list of words from the sypnosis of the i^th movie of metadata\"\"\"\n",
    "    if(type(metadata.overview[i])!=str):\n",
    "        return []\n",
    "    else : \n",
    "        a = str.split(metadata.overview[i])\n",
    "    a = [a[i].replace('.','') for i in np.arange(len(a))]\n",
    "    a = [a[i].replace(',','') for i in np.arange(len(a))]\n",
    "    a = [a[i].replace(\"'s\",'') for i in np.arange(len(a))]\n",
    "    a = [a[i].replace(\"'\",'') for i in np.arange(len(a))]\n",
    "    a = [a[i].replace('_','') for i in np.arange(len(a))]\n",
    "    a = [a[i].replace('-','') for i in np.arange(len(a))]\n",
    "    a = [a[i].replace('\"','') for i in np.arange(len(a))]\n",
    "    a = [a[i].replace('(','') for i in np.arange(len(a))]\n",
    "    a = [a[i].replace(')','') for i in np.arange(len(a))]\n",
    "    a = [a[i].replace(':','') for i in np.arange(len(a))]\n",
    "    return a\n",
    "\n",
    "#If you want the list of words of the first movie: \n",
    "a = create_list_words(0, metadata)\n",
    "print(a)"
   ]
  },
  {
   "attachments": {},
   "cell_type": "markdown",
   "metadata": {},
   "source": [
    "### Question : \n",
    "Can you find the word 'and' inside this list ?  <br> \n",
    "You should. As 'and' is a stop word, we need to remove it from the list."
   ]
  },
  {
   "cell_type": "code",
   "execution_count": 7,
   "metadata": {
    "pycharm": {
     "name": "#%%\n"
    }
   },
   "outputs": [
    {
     "data": {
      "text/plain": [
       "36"
      ]
     },
     "execution_count": 7,
     "metadata": {},
     "output_type": "execute_result"
    }
   ],
   "source": [
    "a.index('and')"
   ]
  },
  {
   "attachments": {},
   "cell_type": "markdown",
   "metadata": {},
   "source": [
    "### Question : \n",
    "Modify the function 'create_list_words' so that the returned list do not contain any stop words. <br>\n",
    "So you should remove all the stop words from 'a' before returning it."
   ]
  },
  {
   "cell_type": "code",
   "execution_count": 8,
   "metadata": {},
   "outputs": [
    {
     "name": "stdout",
     "output_type": "stream",
     "text": [
      "['led', 'woody', 'andy', 'toys', 'live', 'happily', 'room', 'andy', 'birthday', 'brings', 'buzz', 'lightyear', 'onto', 'scene', 'afraid', 'losing', 'place', 'andy', 'heart', 'woody', 'plots', 'buzz', 'but', 'circumstances', 'separate', 'buzz', 'woody', 'owner', 'duo', 'eventually', 'learns', 'put', 'aside', 'differences']\n"
     ]
    }
   ],
   "source": [
    "def create_list_words(i, metadata):\n",
    "    if(type(metadata.overview[i])!=str):\n",
    "        return []\n",
    "    else : \n",
    "        a = str.split(metadata.overview[i])\n",
    "    a = [a[i].replace('.','') for i in np.arange(len(a))]\n",
    "    a = [a[i].replace(',','') for i in np.arange(len(a))]\n",
    "    a = [a[i].replace(\"'s\",'') for i in np.arange(len(a))]\n",
    "    a = [a[i].replace(\"'\",'') for i in np.arange(len(a))]\n",
    "    a = [a[i].replace('_','') for i in np.arange(len(a))]\n",
    "    a = [a[i].replace('-','') for i in np.arange(len(a))]\n",
    "    a = [a[i].replace('\"','') for i in np.arange(len(a))]\n",
    "    a = [a[i].replace('(','') for i in np.arange(len(a))]\n",
    "    a = [a[i].replace(')','') for i in np.arange(len(a))]\n",
    "    a = [a[i].replace(':','') for i in np.arange(len(a))]\n",
    "    \"\"\"Remove the stop words\"\"\"\n",
    "    a = [i for i in a if i not in stop_words]\n",
    "    a = [j.lower() for j in a]\n",
    "    return a\n",
    "\n",
    "a = create_list_words(0, metadata)\n",
    "print(a)"
   ]
  },
  {
   "attachments": {},
   "cell_type": "markdown",
   "metadata": {},
   "source": [
    "### Question : \n",
    "Now create a function 'word_frequencies (i, metadata, unique_words)' that computes the occurence frequency vector of the words in the synopsis of movie i.\n",
    "The results should be a Series of length equal to the number of possible words and the elements of the result shoud be the occurence frequency of the possible words (as [0.333 0.333 0 0 0 0.333] in the toy example below)."
   ]
  },
  {
   "cell_type": "code",
   "execution_count": 9,
   "metadata": {},
   "outputs": [],
   "source": [
    "def word_frequencies(i, metadata, unique_words) : \n",
    "    a = create_list_words(i, metadata)\n",
    "    # Count the occurence of each word in a\n",
    "    b = pd.Series(a, dtype='string').value_counts()\n",
    "    # Now transform b into an nparray and each elements of the array is the occurence frequency of the corresponding word\n",
    "    c = np.zeros(len(unique_words))\n",
    "    for j in np.arange(len(unique_words)) :\n",
    "        if unique_words[j] in b.index :\n",
    "            c[j] = b[unique_words[j]]/len(a)\n",
    "    return c"
   ]
  },
  {
   "attachments": {},
   "cell_type": "markdown",
   "metadata": {},
   "source": [
    "### Question :\n",
    "- Apply your function 'word_frequencies' to the first movie of metadata.\n",
    "- Apply your function 'word_frequencies' to the second movie of metadata\n",
    "- Compute the cosine distance between these 2 movies"
   ]
  },
  {
   "cell_type": "code",
   "execution_count": 10,
   "metadata": {},
   "outputs": [
    {
     "data": {
      "text/plain": [
       "0.9791258569638284"
      ]
     },
     "execution_count": 10,
     "metadata": {},
     "output_type": "execute_result"
    }
   ],
   "source": [
    "occurence_first_movie = word_frequencies(0, metadata, unique_words)\n",
    "# print(occurence_first_movie)\n",
    "occurence_second_movie = word_frequencies(1, metadata, unique_words)\n",
    "# print(occurence_second_movie)\n",
    "distance_first_second = distance.cosine(occurence_first_movie,occurence_second_movie)\n",
    "distance_first_second"
   ]
  },
  {
   "attachments": {},
   "cell_type": "markdown",
   "metadata": {},
   "source": [
    "### Question : \n",
    "Then, write a function 'my_cosine(metadata, i, j) that computes the cosine distance between movie i and j of metadata."
   ]
  },
  {
   "cell_type": "code",
   "execution_count": 11,
   "metadata": {},
   "outputs": [
    {
     "data": {
      "text/plain": [
       "0.9791258569638284"
      ]
     },
     "execution_count": 11,
     "metadata": {},
     "output_type": "execute_result"
    }
   ],
   "source": [
    "def my_cosine(metadata, i, j) :\n",
    "    occurence_movie_i = word_frequencies(i, metadata, unique_words)\n",
    "    occurence_movie_j = word_frequencies(j, metadata, unique_words)\n",
    "    if occurence_movie_i.sum() == 0 or occurence_movie_j.sum() == 0 :\n",
    "        return 10\n",
    "    return distance.cosine(occurence_movie_i,occurence_movie_j)\n",
    "\n",
    "my_cosine(metadata, 0, 1)"
   ]
  },
  {
   "attachments": {},
   "cell_type": "markdown",
   "metadata": {},
   "source": [
    "### Question : \n",
    "Create a DataFrame that contains the word frequencies representations of all the movies in your dataset (about 5000). These representations should be stored in the rows of the DataFrame <br>\n",
    "(might take a long time to compute, be patient)"
   ]
  },
  {
   "cell_type": "code",
   "execution_count": 13,
   "metadata": {},
   "outputs": [],
   "source": [
    "def frequencies_all_movies(metadata, unique_words) :\n",
    "    frequ_all_movies = pd.DataFrame(np.zeros((len(metadata),len(unique_words))))\n",
    "    for i in range(len(metadata)) :\n",
    "        frequ_all_movies.iloc[i,:] = word_frequencies(i, metadata, unique_words)\n",
    "    return frequ_all_movies\n",
    "freq_all_movies = frequencies_all_movies(metadata, unique_words)"
   ]
  },
  {
   "attachments": {},
   "cell_type": "markdown",
   "metadata": {},
   "source": [
    "### Question : \n",
    "Write a function 'most_similar(i, ...)' that returns the 4 movies that are most similar to movie i.\n"
   ]
  },
  {
   "cell_type": "code",
   "execution_count": 14,
   "metadata": {},
   "outputs": [
    {
     "name": "stdout",
     "output_type": "stream",
     "text": [
      "Top similar movies of 'Toy Story' :  [('Toy Story 2', 0.5957739582727783), ('Man on the Moon', 0.8514778685534988), ('Condorman', 0.8747551417829701), ('Rebel Without a Cause', 0.8774754926475492)]\n"
     ]
    }
   ],
   "source": [
    "def most_similar(i, metadata, freq_all_movies):\n",
    "    \"\"\"Compute the cosine distance between movie i and all the other movies\"\"\"\n",
    "    dist = {}\n",
    "    for j in range(len(metadata)) :\n",
    "        if freq_all_movies.iloc[j,:].sum() == 0 :\n",
    "            dist[metadata.title[j]] = 10 # There is no overview.\n",
    "        else :\n",
    "            coeff = distance.cosine(freq_all_movies.iloc[i,:], freq_all_movies.iloc[j,:])\n",
    "            dist[metadata.title[j]] = coeff\n",
    "    return sorted(dist.items(), key=lambda x: x[1], reverse=False)[1:5]\n",
    "print(\"Top similar movies of 'Toy Story' : \", most_similar(0, metadata, freq_all_movies))"
   ]
  },
  {
   "attachments": {},
   "cell_type": "markdown",
   "metadata": {
    "pycharm": {
     "name": "#%% md\n"
    }
   },
   "source": [
    "### Questions : \n",
    "Try your function to find the 4 most similar movies to :\n",
    "- 'Toy Story'\n",
    "- 'Dr. No' (a James bond)\n",
    "- 'The Shawshank Redemption' (a movie about a prison break)"
   ]
  },
  {
   "cell_type": "code",
   "execution_count": 15,
   "metadata": {
    "pycharm": {
     "is_executing": true,
     "name": "#%%\n"
    }
   },
   "outputs": [
    {
     "name": "stdout",
     "output_type": "stream",
     "text": [
      "Top similar movies of 'Toy Story' :  [('Toy Story 2', 0.5957739582727783), ('Man on the Moon', 0.8514778685534988), ('Condorman', 0.8747551417829701), ('Rebel Without a Cause', 0.8774754926475492)]\n",
      "Top similar movies of 'Dr. No' :  [('Live and Let Die', 0.7609542781331213), ('From Russia with Love', 0.7741230242736872), ('GoldenEye', 0.800795231777601), ('The Man with the Golden Gun', 0.8237731557874397)]\n",
      "Top similar movies of 'The Shawshank Redemption' :  [('A Further Gesture', 0.8101858494086758), ('Brubaker', 0.8174258141649446), ('Penitentiary', 0.8227706107603583), ('Cool Hand Luke', 0.8278674068352259)]\n"
     ]
    }
   ],
   "source": [
    "def find_movie(title):\n",
    "    \"\"\"Find a movie in the dataset using its title\"\"\"\n",
    "    for i in np.arange(len(metadata)):\n",
    "        if(metadata.title[i]==title):\n",
    "            return i\n",
    "    return -1\n",
    "\n",
    "print(\"Top similar movies of 'Toy Story' : \", most_similar(find_movie(\"Toy Story\"), metadata, freq_all_movies))\n",
    "print(\"Top similar movies of 'Dr. No' : \", most_similar(find_movie(\"Dr. No\"), metadata, freq_all_movies))\n",
    "print(\"Top similar movies of 'The Shawshank Redemption' : \", most_similar(find_movie(\"The Shawshank Redemption\"), metadata, freq_all_movies))"
   ]
  }
 ],
 "metadata": {
  "kernelspec": {
   "display_name": "base",
   "language": "python",
   "name": "python3"
  },
  "language_info": {
   "codemirror_mode": {
    "name": "ipython",
    "version": 3
   },
   "file_extension": ".py",
   "mimetype": "text/x-python",
   "name": "python",
   "nbconvert_exporter": "python",
   "pygments_lexer": "ipython3",
   "version": "3.9.12"
  },
  "vscode": {
   "interpreter": {
    "hash": "2c3bed17121740c108be99b0953e30c4755f53c8e86e2cec37f85b1c3fa4d47d"
   }
  }
 },
 "nbformat": 4,
 "nbformat_minor": 4
}
