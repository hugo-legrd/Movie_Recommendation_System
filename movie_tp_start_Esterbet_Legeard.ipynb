{
 "cells": [
  {
   "attachments": {},
   "cell_type": "markdown",
   "metadata": {
    "pycharm": {
     "name": "#%% md\n"
    }
   },
   "source": [
    "# <center> Projet - Partie 1 - BDA</center>\n",
    "<center>\n",
    "Esterbet Julien - Legeard Hugo <br>\n",
    "2022-2023 <br>\n",
    "M1 EIT FinTech - ISTIC - Université de Rennes 1<br> <br>\n",
    "</center>"
   ]
  },
  {
   "cell_type": "code",
   "execution_count": 1,
   "metadata": {},
   "outputs": [],
   "source": [
    "import pandas as pd\n",
    "import matplotlib.pyplot as plt\n",
    "import numpy as np\n",
    "from sklearn.metrics import mean_squared_error\n",
    "# from eval_student_37 import evaluation_function"
   ]
  },
  {
   "attachments": {},
   "cell_type": "markdown",
   "metadata": {},
   "source": [
    "<center>########################################## 1 ########################################## <br>\n",
    "You can run the cell you prefer depending of the paths of your files, of course, feel free to change them as you want.</center>"
   ]
  },
  {
   "cell_type": "code",
   "execution_count": 3,
   "metadata": {},
   "outputs": [
    {
     "name": "stdout",
     "output_type": "stream",
     "text": [
      "   movie_id                               Title                         genres\n",
      "0         1                    Toy Story (1995)   Animation|Children's|Comedy;\n",
      "1         2                      Jumanji (1995)  Adventure|Children's|Fantasy;\n",
      "2         3             Grumpier Old Men (1995)                Comedy|Romance;\n",
      "3         4            Waiting to Exhale (1995)                  Comedy|Drama;\n",
      "4         5  Father of the Bride Part II (1995)                        Comedy;\n",
      "\n",
      "   user_id  movie_id  rating  timestamp\n",
      "0        1      1193       5  978300760\n",
      "1        1       661       3  978302109\n",
      "2        1       914       3  978301968\n",
      "3        1      3408       4  978300275\n",
      "4        1      2355       5  978824291\n",
      "\n",
      "   user_id gender  age  occupation    zip\n",
      "0        1      F    1          10  48067\n",
      "1        2      M   56          16  70072\n",
      "2        3      M   25          15  55117\n",
      "3        4      M   45           7  02460\n",
      "4        5      M   25          20  55455\n"
     ]
    }
   ],
   "source": [
    "unames = ['movie_id', 'Title', 'genres']\n",
    "movies = pd.read_csv('movies.csv', header = None, names = unames, sep = '::', engine = 'python')\n",
    "print(movies.head(), end='\\n\\n')\n",
    "ratings = pd.read_csv('ratings_train.csv', index_col = 0)\n",
    "print(ratings.head(), end='\\n\\n')\n",
    "ratings_test = pd.read_csv('ratings_test.csv', index_col = 0)\n",
    "\n",
    "unames = ['user_id', 'gender', 'age', 'occupation', 'zip']\n",
    "users = pd.read_csv('users.csv', sep = '::', header = None, names = unames, engine = 'python')\n",
    "print(users.head())"
   ]
  },
  {
   "attachments": {},
   "cell_type": "markdown",
   "metadata": {
    "pycharm": {
     "name": "#%% md\n"
    }
   },
   "source": [
    "<center>######################################## 1.1 ######################################## <br><br>\n",
    "######################################## 1.1.1 ########################################\n",
    "</center>"
   ]
  },
  {
   "cell_type": "code",
   "execution_count": 4,
   "metadata": {},
   "outputs": [
    {
     "name": "stdout",
     "output_type": "stream",
     "text": [
      "   movie_id                               Title                         genres\n",
      "0         1                    Toy Story (1995)   Animation|Children's|Comedy;\n",
      "1         2                      Jumanji (1995)  Adventure|Children's|Fantasy;\n",
      "2         3             Grumpier Old Men (1995)                Comedy|Romance;\n",
      "3         4            Waiting to Exhale (1995)                  Comedy|Drama;\n",
      "4         5  Father of the Bride Part II (1995)                        Comedy;\n",
      "\n",
      "   movie_id                        Title                         genres  Year\n",
      "0         1                    Toy Story   Animation|Children's|Comedy;  1995\n",
      "1         2                      Jumanji  Adventure|Children's|Fantasy;  1995\n",
      "2         3             Grumpier Old Men                Comedy|Romance;  1995\n",
      "3         4            Waiting to Exhale                  Comedy|Drama;  1995\n",
      "4         5  Father of the Bride Part II                        Comedy;  1995\n"
     ]
    }
   ],
   "source": [
    "def create_new_column_year(x):\n",
    "    return x.split('(')[-1].replace(')', '')\n",
    "\n",
    "def delete_string_inside_parenthesis(x):\n",
    "    return x.split(' (')[0] \n",
    "\n",
    "print(movies.head(), end='\\n\\n')\n",
    "movies['Year'] = movies['Title'].apply(create_new_column_year)\n",
    "movies['Title'] = movies['Title'].apply(delete_string_inside_parenthesis)\n",
    "print(movies.head())"
   ]
  },
  {
   "attachments": {},
   "cell_type": "markdown",
   "metadata": {},
   "source": [
    "<center>######################################## 1.1.2 ########################################\n",
    "</center>"
   ]
  },
  {
   "cell_type": "code",
   "execution_count": 5,
   "metadata": {},
   "outputs": [
    {
     "data": {
      "image/png": "[encoded data removed]",
      "text/plain": [
       "<Figure size 432x288 with 1 Axes>"
      ]
     },
     "metadata": {
      "needs_background": "light"
     },
     "output_type": "display_data"
    },
    {
     "name": "stdout",
     "output_type": "stream",
     "text": [
      "The best movie of 1995 is : Index(['Gate of Heavenly Peace, The'], dtype='object', name='Title') with a mean of 5.0 and a total of people that rated the movie of 1.\n"
     ]
    },
    {
     "data": {
      "text/plain": [
       "\"Best 1995 movie : 'Gate of Heavenly Peace, The'\\nMean : 5.0\\nNumber of ratings : 1\""
      ]
     },
     "execution_count": 5,
     "metadata": {},
     "output_type": "execute_result"
    }
   ],
   "source": [
    "def best_movie_by_year(year):\n",
    "    \"\"\"Find the best movie by year\"\"\"\n",
    "    movies_year = movies[movies['Year'] == year]\n",
    "    movies_year_ratings = pd.merge(movies_year, ratings, on='movie_id')\n",
    "    \"\"\"We group by the title and calculate the mean of the ratings\"\"\"\n",
    "    movies_year_ratings_mean = movies_year_ratings.groupby('Title')['rating'].mean().sort_values(ascending=False)\n",
    "    \"\"\"We plot the top 10 movies to have a better view\"\"\"\n",
    "    movies_year_ratings_mean.head(10).plot(kind='barh')\n",
    "    plt.show()\n",
    "    return \"The best movie of \" + str(year) + \" is : \" + str(movies_year_ratings_mean.head(1).index) + \" with a mean of \" + str(movies_year_ratings_mean.head(1)[0]) + \" and a total of people that rated the movie of \" + str(movies_year_ratings[movies_year_ratings['Title'] == movies_year_ratings_mean.head(1).index[0]]['rating'].count()) + \".\"\n",
    "print(best_movie_by_year('1995'))\n",
    "\n",
    "\"\"\"Best 1995 movie : 'Gate of Heavenly Peace, The'\n",
    "Mean : 5.0\n",
    "Number of ratings : 1\"\"\""
   ]
  },
  {
   "attachments": {},
   "cell_type": "markdown",
   "metadata": {},
   "source": [
    "<center>######################################## 1.1.3 ########################################\n",
    "</center>"
   ]
  },
  {
   "cell_type": "code",
   "execution_count": 6,
   "metadata": {},
   "outputs": [
    {
     "name": "stdout",
     "output_type": "stream",
     "text": [
      "Title\n",
      "Usual Suspects, The           4.519763\n",
      "Close Shave, A                4.500000\n",
      "Braveheart                    4.197183\n",
      "Ghost in the Shell            4.148148\n",
      "Toy Story                     4.134426\n",
      "Persuasion                    4.120000\n",
      "City of Lost Children, The    4.089552\n",
      "Apollo 13                     4.070270\n",
      "Celluloid Closet, The         4.042553\n",
      "Seven                         4.026866\n",
      "Name: rating, dtype: float64\n"
     ]
    }
   ],
   "source": [
    "# Same question but only consider movies with at least 10 ratings from users\n",
    "def best_movie_by_year_10_ratings(year):\n",
    "    \"\"\"Find the best movie by year\"\"\"\n",
    "    movies_year = movies[movies['Year'] == year]\n",
    "    movies_year_ratings = pd.merge(movies_year, ratings, on='movie_id')\n",
    "    \"\"\"We group by the title and calculate the mean of the ratings\"\"\"\n",
    "    movies_year_ratings_mean = movies_year_ratings.groupby('Title')['rating'].mean().sort_values(ascending=False)\n",
    "    \"\"\"Here we count the number of ratings for each movies in 1995\"\"\"\n",
    "    movies_year_ratings_count = movies_year_ratings.groupby('Title')['rating'].count()\n",
    "    \"\"\"And we keep those with more than 10 ratings\"\"\"\n",
    "    movies_year_10_ratings = movies_year_ratings_count[movies_year_ratings_count > 10]\n",
    "    \"\"\"Whe get the mean of the ratings for the movies with more than 10 ratings\"\"\"\n",
    "    movies_year_10_ratings_mean = movies_year_ratings_mean[movies_year_ratings_mean.index.isin(movies_year_10_ratings.index)].sort_values(ascending=False)\n",
    "    \"\"\"And show the best one\"\"\"\n",
    "    return movies_year_10_ratings_mean.head(10)\n",
    "\n",
    "print(best_movie_by_year_10_ratings('1995'))"
   ]
  },
  {
   "attachments": {},
   "cell_type": "markdown",
   "metadata": {
    "pycharm": {
     "name": "#%% md\n"
    }
   },
   "source": [
    "<center>######################################## 1.1.4 ########################################\n",
    "</center>"
   ]
  },
  {
   "cell_type": "code",
   "execution_count": 7,
   "metadata": {},
   "outputs": [
    {
     "data": {
      "text/plain": [
       "Year\n",
       "<1940           52.580952\n",
       "[1940,1960[     59.200787\n",
       "[1960, 1980[    89.248175\n",
       ">1980           87.838871\n",
       "dtype: float64"
      ]
     },
     "execution_count": 7,
     "metadata": {},
     "output_type": "execute_result"
    },
    {
     "data": {
      "image/png": "[encoded data removed]",
      "text/plain": [
       "<Figure size 720x360 with 1 Axes>"
      ]
     },
     "metadata": {
      "needs_background": "light"
     },
     "output_type": "display_data"
    }
   ],
   "source": [
    "\"\"\"Here we show the average number of ratings of movies depending on their release date\"\"\"\n",
    "movies['Year'] = pd.to_numeric(movies['Year'])\n",
    "movies['Year'] = pd.cut(movies['Year'], bins=[0, 1940, 1959, 1979, 2020], labels=['<1940', '[1940,1960[', '[1960, 1980[', '>1980'])\n",
    "movies_and_ratings = pd.merge(movies, ratings, on='movie_id')\n",
    "\n",
    "ratings_by_bins = movies_and_ratings.groupby('Year')['rating'].count()\n",
    "movies_by_bins = movies_and_ratings.groupby('Year')['movie_id'].nunique()\n",
    "avgNumber_ratings_by_bins = ratings_by_bins/movies_by_bins\n",
    "avgNumber_ratings_by_bins.plot(kind='barh', title='Average number of ratings by release date', ylabel='Release date', xlabel='Average number of ratings', figsize=(10, 5))\n",
    "avgNumber_ratings_by_bins"
   ]
  },
  {
   "attachments": {},
   "cell_type": "markdown",
   "metadata": {},
   "source": [
    "<center>######################################## 1.1.5 ########################################\n",
    "</center>"
   ]
  },
  {
   "cell_type": "code",
   "execution_count": 10,
   "metadata": {},
   "outputs": [
    {
     "data": {
      "text/plain": [
       "3.559247773012207"
      ]
     },
     "execution_count": 10,
     "metadata": {},
     "output_type": "execute_result"
    }
   ],
   "source": [
    "\"\"\"Here is the average rating in the dataset\"\"\"\n",
    "average_rating = ratings['rating'].mean()\n",
    "average_rating"
   ]
  },
  {
   "attachments": {},
   "cell_type": "markdown",
   "metadata": {},
   "source": [
    "<center>######################################## 1.1.6 ########################################\n",
    "</center>"
   ]
  },
  {
   "cell_type": "code",
   "execution_count": 8,
   "metadata": {},
   "outputs": [
    {
     "data": {
      "text/plain": [
       "3.733974358974359"
      ]
     },
     "execution_count": 8,
     "metadata": {},
     "output_type": "execute_result"
    }
   ],
   "source": [
    "\"\"\"Here is the average rating given by user 148\"\"\"\n",
    "average_rating_user_148 = ratings[ratings['user_id'] == 148]['rating'].mean()\n",
    "average_rating_user_148"
   ]
  },
  {
   "attachments": {},
   "cell_type": "markdown",
   "metadata": {},
   "source": [
    "<center>######################################## 1.1.7 ########################################\n",
    "</center>"
   ]
  },
  {
   "cell_type": "code",
   "execution_count": 9,
   "metadata": {},
   "outputs": [
    {
     "data": {
      "text/plain": [
       "4    242\n",
       "5    238\n",
       "3    106\n",
       "2     22\n",
       "1      2\n",
       "Name: rating, dtype: int64"
      ]
     },
     "execution_count": 9,
     "metadata": {},
     "output_type": "execute_result"
    },
    {
     "data": {
      "image/png": "[encoded data removed]",
      "text/plain": [
       "<Figure size 720x360 with 1 Axes>"
      ]
     },
     "metadata": {
      "needs_background": "light"
     },
     "output_type": "display_data"
    }
   ],
   "source": [
    "\"\"\"Here is the distribution of ratings for the movie ’Toy Story’, so that we can see if it is a good movie or not.\"\"\"\n",
    "id_toy_story = movies[movies['Title'] == 'Toy Story']['movie_id'].iloc[0]\n",
    "toy_story_ratings = ratings[ratings['movie_id'] == id_toy_story]['rating']\n",
    "toy_story_ratings_count = toy_story_ratings.value_counts()\n",
    "\n",
    "toy_story_ratings_count.plot(kind='bar', title='Distribution of ratings for Toy Story', ylabel='Number of ratings', xlabel='Rating', figsize=(10, 5))\n",
    "toy_story_ratings_count"
   ]
  },
  {
   "attachments": {},
   "cell_type": "markdown",
   "metadata": {},
   "source": [
    "<center>######################################## 1.1.8 ########################################\n",
    "</center>"
   ]
  },
  {
   "cell_type": "code",
   "execution_count": 10,
   "metadata": {},
   "outputs": [
    {
     "data": {
      "text/plain": [
       "occupation  gender\n",
       "0           F          4.661551\n",
       "            M         10.430118\n",
       "1           F          4.060294\n",
       "            M          6.173663\n",
       "2           F          2.705329\n",
       "            M          4.284944\n",
       "3           F          3.020982\n",
       "            M          3.233023\n",
       "4           F          3.915161\n",
       "            M         11.123166\n",
       "5           F          1.082902\n",
       "            M          2.185106\n",
       "6           F          2.138372\n",
       "            M          2.768012\n",
       "7           F          2.754551\n",
       "            M          8.334549\n",
       "8           F          1.000000\n",
       "            M          1.350940\n",
       "9           F          2.063342\n",
       "            M          1.032915\n",
       "10          F          2.230769\n",
       "            M          3.857741\n",
       "11          F          1.263682\n",
       "            M          3.212272\n",
       "12          F          1.707678\n",
       "            M          6.902617\n",
       "13          F          1.428037\n",
       "            M          2.235746\n",
       "14          F          1.892857\n",
       "            M          4.134837\n",
       "15          F          1.328063\n",
       "            M          2.854061\n",
       "16          F          1.735361\n",
       "            M          5.424346\n",
       "17          F          1.500585\n",
       "            M          8.387780\n",
       "18          M          1.900383\n",
       "19          F          1.400183\n",
       "            M          2.658236\n",
       "20          F          2.652825\n",
       "            M          5.988867\n",
       "dtype: float64"
      ]
     },
     "execution_count": 10,
     "metadata": {},
     "output_type": "execute_result"
    },
    {
     "data": {
      "image/png": "[encoded data removed]",
      "text/plain": [
       "<Figure size 864x432 with 1 Axes>"
      ]
     },
     "metadata": {
      "needs_background": "light"
     },
     "output_type": "display_data"
    }
   ],
   "source": [
    "\"\"\"Merge the two dataframe to get back the users\"\"\"\n",
    "ratings_and_users = pd.merge(ratings, users, on='user_id')\n",
    "\"\"\"Count the number of ratings by group\"\"\"\n",
    "ratings_by_occupation = ratings_and_users.groupby(['occupation', 'gender'])['rating'].count()\n",
    "\"\"\"Get the number of unique films by group\"\"\"\n",
    "movies_by_occupation = ratings_and_users.groupby(['occupation', 'gender'])['movie_id'].nunique()\n",
    "\"\"\"Compute the average number of ratings by movies\"\"\"\n",
    "avgNumber_ratings_by_occupation = ratings_by_occupation/movies_by_occupation\n",
    "\"\"\"Plot the result\"\"\"\n",
    "avgNumber_ratings_by_occupation.plot(kind='bar', title='Average number of ratings by occupation and gender', ylabel='Average number of ratings', xlabel='Occupation and gender', figsize=(12, 6))\n",
    "avgNumber_ratings_by_occupation"
   ]
  },
  {
   "attachments": {},
   "cell_type": "markdown",
   "metadata": {},
   "source": [
    "<center>######################################## 1.1.9 ########################################\n",
    "</center>"
   ]
  },
  {
   "cell_type": "code",
   "execution_count": 11,
   "metadata": {},
   "outputs": [
    {
     "name": "stdout",
     "output_type": "stream",
     "text": [
      "age\n",
      "1     3.522943\n",
      "18    3.486941\n",
      "25    3.522359\n",
      "35    3.597485\n",
      "45    3.620910\n",
      "50    3.715111\n",
      "56    3.820500\n",
      "Name: rating, dtype: float64\n"
     ]
    },
    {
     "data": {
      "text/plain": [
       "\"We don't really see a huge difference on the average of ratings between age, maybe 56+ are less harsh and [18-25] are more difficult to please.\""
      ]
     },
     "execution_count": 11,
     "metadata": {},
     "output_type": "execute_result"
    },
    {
     "data": {
      "image/png": "[encoded data removed]",
      "text/plain": [
       "<Figure size 576x288 with 1 Axes>"
      ]
     },
     "metadata": {
      "needs_background": "light"
     },
     "output_type": "display_data"
    }
   ],
   "source": [
    "ratings_by_age = ratings_and_users.groupby('age')['rating'].mean()\n",
    "ratings_by_age.plot(kind='bar', title='Average rating by age', ylabel='Average rating', xlabel='Age', figsize=(8, 4))\n",
    "print(ratings_by_age)\n",
    "\"\"\"We don't really see a huge difference on the average of ratings between age, maybe 56+ are less harsh and [18-25] are more difficult to please.\"\"\""
   ]
  },
  {
   "attachments": {},
   "cell_type": "markdown",
   "metadata": {},
   "source": [
    "<center>######################################## 1.1.10 ########################################\n",
    "</center>"
   ]
  },
  {
   "cell_type": "code",
   "execution_count": 12,
   "metadata": {},
   "outputs": [
    {
     "name": "stdout",
     "output_type": "stream",
     "text": [
      "genres                       gender\n",
      "Action;                      F         3.289786\n",
      "                             M         3.272036\n",
      "Action|Adventure;            F         3.691358\n",
      "                             M         3.642578\n",
      "Action|Adventure|Animation;  F         3.521739\n",
      "                                         ...   \n",
      "Thriller;                    M         3.514388\n",
      "War;                         F         3.880000\n",
      "                             M         3.898305\n",
      "Western;                     F         3.644578\n",
      "                             M         3.864969\n",
      "Name: rating, Length: 600, dtype: float64\n"
     ]
    },
    {
     "data": {
      "text/plain": [
       "\"'Drama|Romance|Western' movies have a average rating of 4 with the females vs 3 whith males, for 'Crime|Mistery' category, it is 2.5 for woman and 3.5 for man\""
      ]
     },
     "execution_count": 12,
     "metadata": {},
     "output_type": "execute_result"
    }
   ],
   "source": [
    "ratings_and_users_and_movies = pd.merge(ratings_and_users, movies, on='movie_id')\n",
    "ratings_by_gender_and_genres = ratings_and_users_and_movies.groupby(['genres', 'gender'])['rating'].mean()\n",
    "print(ratings_by_gender_and_genres)\n",
    "\"\"\"'Drama|Romance|Western' movies have a average rating of 4 with the females vs 3 whith males, for 'Crime|Mistery' category, it is 2.5 for woman and 3.5 for man\"\"\""
   ]
  },
  {
   "attachments": {},
   "cell_type": "markdown",
   "metadata": {},
   "source": [
    "<center>######################################## 1.2 ########################################\n",
    "</center>"
   ]
  },
  {
   "cell_type": "code",
   "execution_count": 13,
   "metadata": {},
   "outputs": [
    {
     "name": "stdout",
     "output_type": "stream",
     "text": [
      "1.1132087735364136\n"
     ]
    }
   ],
   "source": [
    "def predict_a_rating_regarding_a_movie_by_id(m) :\n",
    "    \"\"\"Here we predict the rating of a movie_id m\"\"\"\n",
    "    movie_ratings_mean = ratings[ratings['movie_id'] == m]['rating'].mean()\n",
    "    return movie_ratings_mean\n",
    "\n",
    "def predict_a_rating_regarding_a_movie_by_name(m) :\n",
    "    \"\"\"Here we predict the rating of a movie m by its name\"\"\"\n",
    "    movie_id = movies[movies['Title'] == m]['movie_id'].iloc[0]\n",
    "    return predict_a_rating_regarding_a_movie_by_id(movie_id)\n",
    "\n",
    "def evaluation_function(p):\n",
    "    res = np.array([1, 3, 2, 5, 3, 4, 4, 3, 3, 5, 5, 5, 4, 2, 4, 2, 5, 5, 4, 4, 5, 3, 5, 5, 1, 3, 2, 4, 3, 4, 2, 3, 3, 3, 5, 5, 3, 4, 4, 4, 5, 5, 3, 3, 5, 3, 5, 2, 2, 3, 4])\n",
    "    return mean_squared_error(p,res)\n",
    "\n",
    "# print(evaluation_function(ratings_test['movie_id'].apply(predict_a_rating_regarding_a_movie_by_id)))\n",
    "ratings_test['prediction_v1'] = ratings_test['movie_id'].apply(predict_a_rating_regarding_a_movie_by_id)\n",
    "evaluation_prediction_v1 = evaluation_function(ratings_test['prediction_v1'])\n",
    "print(evaluation_prediction_v1)"
   ]
  },
  {
   "attachments": {},
   "cell_type": "markdown",
   "metadata": {},
   "source": [
    "<center>######################################## 1.3 ########################################\n",
    "</center>"
   ]
  },
  {
   "cell_type": "code",
   "execution_count": 14,
   "metadata": {},
   "outputs": [
    {
     "name": "stdout",
     "output_type": "stream",
     "text": [
      "Title\n",
      "Last September, The                     2\n",
      "On Any Sunday                           2\n",
      "Baby, The                               1\n",
      "Big Trees, The                          1\n",
      "Black Sunday                            1\n",
      "Criminal Lovers                         1\n",
      "Devil Girl From Mars                    1\n",
      "Dingo                                   1\n",
      "Gate of Heavenly Peace, The             1\n",
      "Hour of the Pig, The                    1\n",
      "Mamma Roma                              1\n",
      "Those Who Love Me Can Take the Train    1\n",
      "Train of Life                           1\n",
      "Name: rating, dtype: int64\n"
     ]
    }
   ],
   "source": [
    "\"\"\"Which movie has the highest average rating ?\"\"\"\n",
    "movies_ratings_mean = movies_and_ratings.groupby('Title')['rating'].mean()\n",
    "movies_ratings_mean.sort_values(ascending=False, inplace=True)\n",
    "\n",
    "\"\"\"There is 13 equal movies with the higher rate, here we plot the top 13 movies\"\"\"\n",
    "# movies_ratings_mean.head(13).plot(kind='barh')\n",
    "top13_movies = movies_ratings_mean.head(13)\n",
    "# print(top13_movies)\n",
    "\n",
    "\"\"\"How many ratings have each of these movies ?\"\"\"\n",
    "top13_movies_ratings_count = movies_and_ratings[movies_and_ratings['Title'].isin(top13_movies.index)].groupby('Title')['rating'].count()\n",
    "top13_movies_ratings_count.sort_values(ascending=False, inplace=True)\n",
    "print(top13_movies_ratings_count)"
   ]
  },
  {
   "cell_type": "code",
   "execution_count": 15,
   "metadata": {},
   "outputs": [
    {
     "data": {
      "text/plain": [
       "'The movie with the highest weighted rating is not the same as the one with the highest average rating : it is \"Shindler\\'s List\" with a weighted rating of 4.405165.'"
      ]
     },
     "execution_count": 15,
     "metadata": {},
     "output_type": "execute_result"
    }
   ],
   "source": [
    "# write a function that computes the weighted rating of a movie given its id movie_id and a rating matrix (as the one you have, with all the ratings given by users to the different movies)\n",
    "def weighted_rating(movie_id, rating_matrix):\n",
    "    \"\"\"Here we compute the weighted rating of a movie given its id movie_id and a rating matrix\"\"\"\n",
    "    # get the number of ratings for the movie\n",
    "    v = rating_matrix[rating_matrix['movie_id'] == movie_id]['rating'].count()\n",
    "    # get the mean of ratings for the movie\n",
    "    R = rating_matrix[rating_matrix['movie_id'] == movie_id]['rating'].mean()\n",
    "    # get the mean of ratings for all movies\n",
    "    C = rating_matrix['rating'].mean()\n",
    "    # get the 75-percentile value of number of ratings for the different movies of the dataset\n",
    "    n = rating_matrix['movie_id'].value_counts().quantile(0.75)\n",
    "    # compute the weighted rating\n",
    "    weighted_rating = (v/(v+n)) * R + (n/(v+n)) * C\n",
    "    return weighted_rating\n",
    "# print(weighted_rating(1, ratings))\n",
    "\n",
    "movies['weighted_rating'] = movies['movie_id'].apply(weighted_rating, rating_matrix=ratings)\n",
    "movies.sort_values(by='weighted_rating', ascending=False).head(10)\n",
    "\"\"\"The movie with the highest weighted rating is not the same as the one with the highest average rating : it is \"Shindler's List\" with a weighted rating of 4.405165.\"\"\""
   ]
  },
  {
   "cell_type": "code",
   "execution_count": 16,
   "metadata": {},
   "outputs": [
    {
     "name": "stdout",
     "output_type": "stream",
     "text": [
      "1.0650475191489384\n"
     ]
    },
    {
     "data": {
      "text/plain": [
       "'Yes, we have improved our predictions, the weighted rating is better than the average rating.'"
      ]
     },
     "execution_count": 16,
     "metadata": {},
     "output_type": "execute_result"
    }
   ],
   "source": [
    "# Use this weighted rating to predict the ratings of all pairs in the test dataset.\n",
    "ratings_test['prediction_v2'] = ratings_test['movie_id'].apply(weighted_rating, rating_matrix=ratings)\n",
    "evaluation_prediction_v2 = evaluation_function(ratings_test['prediction_v2'])\n",
    "print(evaluation_prediction_v2)\n",
    "\"\"\"Yes, we have improved our predictions, the weighted rating is better than the average rating.\"\"\""
   ]
  },
  {
   "attachments": {},
   "cell_type": "markdown",
   "metadata": {},
   "source": [
    "<center>######################################## 1.4 ########################################\n",
    "</center>"
   ]
  },
  {
   "cell_type": "code",
   "execution_count": 17,
   "metadata": {},
   "outputs": [
    {
     "name": "stdout",
     "output_type": "stream",
     "text": [
      "1.0578446896985565\n"
     ]
    }
   ],
   "source": [
    "# To predict the rating given by user u to movie m, we have to compute the average rating of movie m but only ratings given by users of the same gender as user u.\n",
    "def predict_a_rating_regarding_gender(movie_id, gender) :\n",
    "    return ratings_and_users[(ratings_and_users['movie_id'] == movie_id) & (ratings_and_users['gender'] == gender)]['rating'].mean()\n",
    "\n",
    "# To predict the rating given by user u to movie m, we have to compute the average rating of movie m but only ratings given by users of the same gender as user u.\n",
    "def get_the_gender(user_id) :\n",
    "    return users[users['user_id'] == user_id]['gender'].values[0]\n",
    "\n",
    "ratings_test[\"prediction_v3\"] = ratings_test.apply(lambda x: predict_a_rating_regarding_gender(x['movie_id'], get_the_gender(x['user_id'])), axis=1)\n",
    "evaluation_prediction_v3 = evaluation_function(ratings_test['prediction_v3'])\n",
    "print(evaluation_prediction_v3)\n"
   ]
  },
  {
   "attachments": {},
   "cell_type": "markdown",
   "metadata": {},
   "source": [
    "<center>######################################## 1.5 ######################################## <br> <br>\n",
    "######################################## 1.5.1 ######################################## \n",
    "</center>"
   ]
  },
  {
   "cell_type": "code",
   "execution_count": 18,
   "metadata": {},
   "outputs": [
    {
     "name": "stdout",
     "output_type": "stream",
     "text": [
      "0.6551398800949261\n"
     ]
    }
   ],
   "source": [
    "def similarity_between_two_movies(m1_id, m2_id) :\n",
    "    similarity = -1\n",
    "\n",
    "    #Si m1 et m2 ont plus de 40 notes alors :\n",
    "    if(ratings[ratings['movie_id'] == m1_id]['rating'].count() > 40 and ratings[ratings['movie_id'] == m2_id]['rating'].count() > 40) :\n",
    "        # On regarde quels sont les users qui ont notés les 2 : sous la forme 'user_id' -> False/True\n",
    "        users_rated_both_movies_for_m1 = ratings[ratings['movie_id']== m1_id]['user_id'].isin(ratings[ratings['movie_id']==m2_id]['user_id'])\n",
    "        users_rated_both_movies_for_m2 = ratings[ratings['movie_id']== m2_id]['user_id'].isin(ratings[ratings['movie_id']==m1_id]['user_id'])\n",
    "\n",
    "        # On récupère les ID où c'est True, donc la c'est les user_id qui ont notés les 2 films\n",
    "        usersId_rated_both_movies_for_m1 = ratings[ratings['movie_id']== m1_id][users_rated_both_movies_for_m1]['user_id']\n",
    "        usersId_rated_both_movies_for_m2 = ratings[ratings['movie_id']== m2_id][users_rated_both_movies_for_m2]['user_id']\n",
    "\n",
    "        # On fait une Series avec les notes\n",
    "        ratings_m1 = ratings[ratings['movie_id']== m1_id]['rating']\n",
    "        ratings_m2 = ratings[ratings['movie_id']== m2_id]['rating']\n",
    "        # On récupère les notes pour les users qui ont notés les 2 films\n",
    "        ratings_m1_by_user = ratings_m1[ratings_m1.index.isin(usersId_rated_both_movies_for_m1.index)]\n",
    "        ratings_m2_by_user = ratings_m2[ratings_m2.index.isin(usersId_rated_both_movies_for_m2.index)]\n",
    "\n",
    "        # # Create a DataFrame with the user_id as the index and the rating of m1 and m2 as columns\n",
    "        # tab = pd.DataFrame({'m1' : ratings_m1_by_user.iloc[0], 'm2' : ratings_m2_by_user.iloc[0]}, index = usersId_rated_both_movies_for_m1)\n",
    "        # print(tab.head(5))\n",
    "\n",
    "        # Faire une matrice de corrélation avec les ratings de m1 et m2 pour comparer les 2\n",
    "        res = np.corrcoef(ratings_m1_by_user, ratings_m2_by_user)\n",
    "\n",
    "        # Récupérer la valeur qui nous intéresse\n",
    "        similarity = res[0,1]\n",
    "    return similarity\n",
    "# print(similarity_between_two_movies(1, 3114))\n",
    "\n",
    "def similarity_between_two_movies_by_names(m1, m2) : \n",
    "    \"\"\"Get the id of the movies m1 and m2\"\"\"\n",
    "    m1_id = movies[movies['Title'] == m1]['movie_id'].values[0]\n",
    "    m2_id = movies[movies['Title'] == m2]['movie_id'].values[0]\n",
    "    return similarity_between_two_movies(m1_id, m2_id)\n",
    "\n",
    "print(similarity_between_two_movies_by_names('Toy Story', 'Toy Story 2'))"
   ]
  },
  {
   "attachments": {},
   "cell_type": "markdown",
   "metadata": {},
   "source": [
    "<center>######################################## 1.5.2 ########################################</center>"
   ]
  },
  {
   "cell_type": "code",
   "execution_count": 19,
   "metadata": {},
   "outputs": [
    {
     "name": "stdout",
     "output_type": "stream",
     "text": [
      "5.0\n"
     ]
    }
   ],
   "source": [
    "# Write a function that predicts the rating given by a user u to a movie m with the nearest-neighbor approach explained above (with parameter k)\n",
    "def predict_a_movie_nearest_neighbour(m, u, k) : \n",
    "    # Get all the movies rated by u\n",
    "    movies_rated_by_u = ratings[ratings['user_id'] == u]['movie_id']\n",
    "    # Now get the titles and movie_id of the movies rated by u\n",
    "    movies_rated_by_u_titles = movies[movies['movie_id'].isin(movies_rated_by_u)]['Title']\n",
    "    # Compute the similarity between m and all the movies rated by u using similarity_between_two_movies\n",
    "    similarity = movies_rated_by_u_titles.apply(similarity_between_two_movies, m2_id=m)\n",
    "    # Get the k movies with the highest similarity and get the movie Title\n",
    "    k_most_similar_movies = similarity.sort_values(ascending=False).head(k)\n",
    "    similar_movies_id = movies.loc[k_most_similar_movies.index]['movie_id']\n",
    "    # Get the ratings of the k_most_similar_movies\n",
    "    k_most_similar_movies_ratings = ratings[ratings['movie_id'].isin(similar_movies_id)]\n",
    "    # Print the k_most_similar_movies_ratings with user_id == u_id\n",
    "    user_k_most_similar_movies_rating = k_most_similar_movies_ratings[k_most_similar_movies_ratings['user_id'] == u]\n",
    "    # Predict rating(m, u) as : (1/k) * sum(rating(m', u) for m' in k_most_similar_movies)\n",
    "    average_rating = (1/k) * user_k_most_similar_movies_rating['rating'].sum()\n",
    "    return average_rating\n",
    "    \n",
    "print(predict_a_movie_nearest_neighbour(1, 1, 1))"
   ]
  },
  {
   "attachments": {},
   "cell_type": "markdown",
   "metadata": {},
   "source": [
    "<center>######################################## 1.5.3 ########################################</center>"
   ]
  },
  {
   "cell_type": "code",
   "execution_count": 20,
   "metadata": {},
   "outputs": [
    {
     "name": "stdout",
     "output_type": "stream",
     "text": [
      "k1 :  1.9215686274509804\n",
      "k2 :  1.3333333333333333\n",
      "k3 :  1.2614379084967322\n"
     ]
    }
   ],
   "source": [
    "ratings_test[\"prediction_v4_k1\"] = ratings_test.apply(lambda x : predict_a_movie_nearest_neighbour(x['movie_id'], x['user_id'], 1), axis=1)\n",
    "evaluation_prediction_v4_k1 = evaluation_function(ratings_test['prediction_v4_k1'])\n",
    "print(\"k1 : \", evaluation_prediction_v4_k1)\n",
    "\n",
    "ratings_test[\"prediction_v4_k2\"] = ratings_test.apply(lambda x : predict_a_movie_nearest_neighbour(x['movie_id'], x['user_id'], 2), axis=1)\n",
    "evaluation_prediction_v4_k2 = evaluation_function(ratings_test['prediction_v4_k2'])\n",
    "print(\"k2 : \", evaluation_prediction_v4_k2)\n",
    "\n",
    "ratings_test[\"prediction_v4_k3\"] = ratings_test.apply(lambda x : predict_a_movie_nearest_neighbour(x['movie_id'], x['user_id'], 3), axis=1)\n",
    "evaluation_prediction_v4_k3 = evaluation_function(ratings_test['prediction_v4_k3'])\n",
    "print(\"k3 : \", evaluation_prediction_v4_k3)"
   ]
  },
  {
   "attachments": {},
   "cell_type": "markdown",
   "metadata": {},
   "source": [
    "<center>######################################## 1.5.4 ########################################</center>"
   ]
  },
  {
   "cell_type": "code",
   "execution_count": 21,
   "metadata": {},
   "outputs": [
    {
     "name": "stdout",
     "output_type": "stream",
     "text": [
      "k4 :  1.2401960784313726\n",
      "k5 :  1.2462745098039214\n"
     ]
    },
    {
     "data": {
      "text/plain": [
       "'We can see that, as we expected, the more k is high, the better the prediction is, but not anymore after k=4. So we will choose k=4 for our final prediction.'"
      ]
     },
     "execution_count": 21,
     "metadata": {},
     "output_type": "execute_result"
    }
   ],
   "source": [
    "ratings_test[\"prediction_v4_k4\"] = ratings_test.apply(lambda x : predict_a_movie_nearest_neighbour(x['movie_id'], x['user_id'], 4), axis=1)\n",
    "evaluation_prediction_v4_k4 = evaluation_function(ratings_test['prediction_v4_k4'])\n",
    "print(\"k4 : \", evaluation_prediction_v4_k4)\n",
    "\n",
    "ratings_test[\"prediction_v4_k5\"] = ratings_test.apply(lambda x : predict_a_movie_nearest_neighbour(x['movie_id'], x['user_id'], 5), axis=1)\n",
    "evaluation_prediction_v4_k5 = evaluation_function(ratings_test['prediction_v4_k5'])\n",
    "print(\"k5 : \", evaluation_prediction_v4_k5)\n",
    "\n",
    "\"\"\"We can see that, as we expected, the more k is high, the better the prediction is, but not anymore after k=4. So we will choose k=4 for our final prediction.\"\"\""
   ]
  },
  {
   "attachments": {},
   "cell_type": "markdown",
   "metadata": {},
   "source": [
    "<center>######################################## 1.6 ######################################## <br> <br>\n",
    "######################################## 1.6.1 ########################################</center>"
   ]
  },
  {
   "cell_type": "code",
   "execution_count": 22,
   "metadata": {},
   "outputs": [
    {
     "name": "stdout",
     "output_type": "stream",
     "text": [
      "2.6666666666666665\n"
     ]
    }
   ],
   "source": [
    "def similarity_between_user(u, v) :\n",
    "    movies_rated_by_u = ratings[ratings['user_id'] == u]['movie_id']\n",
    "    movies_rated_by_v = ratings[ratings['user_id'] == v]['movie_id']\n",
    "    movies_rated_by_both = movies_rated_by_u[movies_rated_by_u.isin(movies_rated_by_v)]\n",
    "    if movies_rated_by_both.count() < 5 : \n",
    "        return 10000\n",
    "    else :\n",
    "        return (1/movies_rated_by_both.count()) * (np.sum(np.square((ratings[ratings['movie_id'].isin(movies_rated_by_both) & (ratings['user_id'] == u)]['rating']).values - (ratings[ratings['movie_id'].isin(movies_rated_by_both) & (ratings['user_id'] == v)]['rating'])).values))\n",
    "\n",
    "print(similarity_between_user(5, 8))"
   ]
  },
  {
   "attachments": {},
   "cell_type": "markdown",
   "metadata": {},
   "source": [
    "<center>######################################## 1.6.2 ########################################</center>"
   ]
  },
  {
   "cell_type": "code",
   "execution_count": 23,
   "metadata": {},
   "outputs": [
    {
     "name": "stdout",
     "output_type": "stream",
     "text": [
      "4.0\n"
     ]
    }
   ],
   "source": [
    "def predict_a_movie_user_nearest_neighbour(m, u, k) : \n",
    "    #Get all the user that have rated m\n",
    "    users_rated_m = ratings[ratings['movie_id'] == m]['user_id']\n",
    "    similarity = users_rated_m.apply(similarity_between_user, v=u)\n",
    "    #Get the k users with the lowest similarity except the first one\n",
    "    k_most_similar_users = similarity.sort_values(ascending=True).head(k+1).tail(k)\n",
    "    #Get the user id of the k_most_similar_users\n",
    "    similar_users_id = ratings.loc[k_most_similar_users.index]['user_id']\n",
    "    average_rating = (1/k) * (ratings[ratings['user_id'].isin(similar_users_id.values) & (ratings['movie_id'] == m)]['rating'].sum())\n",
    "    return average_rating\n",
    "\n",
    "print(predict_a_movie_user_nearest_neighbour(1, 1, 1))"
   ]
  },
  {
   "attachments": {},
   "cell_type": "markdown",
   "metadata": {},
   "source": [
    "<center>######################################## 1.6.3 ########################################</center>"
   ]
  },
  {
   "cell_type": "code",
   "execution_count": 24,
   "metadata": {},
   "outputs": [
    {
     "name": "stdout",
     "output_type": "stream",
     "text": [
      "k1 :  1.1372549019607843\n",
      "k2 :  0.9705882352941176\n",
      "k3 :  0.9368191721132899\n"
     ]
    }
   ],
   "source": [
    "# very long to compute\n",
    "ratings_test['prediction_v5_k1'] = ratings_test.apply(lambda x : predict_a_movie_user_nearest_neighbour(x['movie_id'], x['user_id'], 1), axis=1)\n",
    "evaluation_prediction_v5_k1 = evaluation_function(ratings_test['prediction_v5_k1'])\n",
    "print(\"k1 : \", evaluation_prediction_v5_k1)\n",
    "# k1 :  1.1372549019607843\n",
    "\n",
    "ratings_test['prediction_v5_k2'] = ratings_test.apply(lambda x : predict_a_movie_user_nearest_neighbour(x['movie_id'], x['user_id'], 2), axis=1)\n",
    "evaluation_prediction_v5_k2 = evaluation_function(ratings_test['prediction_v5_k2'])\n",
    "print(\"k2 : \", evaluation_prediction_v5_k2)\n",
    "# k2 :  0.9705882352941176\n",
    "\n",
    "ratings_test['prediction_v5_k3'] = ratings_test.apply(lambda x : predict_a_movie_user_nearest_neighbour(x['movie_id'], x['user_id'], 3), axis=1)\n",
    "evaluation_prediction_v5_k3 = evaluation_function(ratings_test['prediction_v5_k3'])\n",
    "print(\"k3 : \", evaluation_prediction_v5_k3)\n",
    "# k3 :  0.9368191721132899"
   ]
  },
  {
   "attachments": {},
   "cell_type": "markdown",
   "metadata": {},
   "source": [
    "<center>######################################## 1.6.4 ########################################</center>"
   ]
  },
  {
   "cell_type": "code",
   "execution_count": 81,
   "metadata": {},
   "outputs": [
    {
     "name": "stdout",
     "output_type": "stream",
     "text": [
      "k4 :  0.8811274509803921\n",
      "k5 :  0.9333333333333335\n"
     ]
    },
    {
     "data": {
      "text/plain": [
       "'We can see that, as we expected, the more k is high, the better the prediction is, but not anymore after k=4. So we will choose k=4 for our final prediction.'"
      ]
     },
     "execution_count": 81,
     "metadata": {},
     "output_type": "execute_result"
    }
   ],
   "source": [
    "# very long to compute\n",
    "ratings_test['prediction_v5_k4'] = ratings_test.apply(lambda x : predict_a_movie_user_nearest_neighbour(x['movie_id'], x['user_id'], 4), axis=1)\n",
    "evaluation_prediction_v5_k4 = evaluation_function(ratings_test['prediction_v5_k4'])\n",
    "print(\"k4 : \", evaluation_prediction_v5_k4)\n",
    "# k4 :  0.8811274509803921\n",
    "\n",
    "ratings_test['prediction_v5_k5'] = ratings_test.apply(lambda x : predict_a_movie_user_nearest_neighbour(x['movie_id'], x['user_id'], 5), axis=1)\n",
    "evaluation_prediction_v5_k5 = evaluation_function(ratings_test['prediction_v5_k5'])\n",
    "print(\"k5 : \", evaluation_prediction_v5_k5)\n",
    "# k5 :  0.9333333333333335\n",
    "\n",
    "\"\"\"We can see that, as we expected, the more k is high, the better the prediction is, but not anymore after k=4. So we will choose k=4 for our final prediction.\"\"\""
   ]
  }
 ],
 "metadata": {
  "kernelspec": {
   "display_name": "base",
   "language": "python",
   "name": "python3"
  },
  "language_info": {
   "codemirror_mode": {
    "name": "ipython",
    "version": 3
   },
   "file_extension": ".py",
   "mimetype": "text/x-python",
   "name": "python",
   "nbconvert_exporter": "python",
   "pygments_lexer": "ipython3",
   "version": "3.9.12"
  },
  "vscode": {
   "interpreter": {
    "hash": "2c3bed17121740c108be99b0953e30c4755f53c8e86e2cec37f85b1c3fa4d47d"
   }
  }
 },
 "nbformat": 4,
 "nbformat_minor": 4
}
